{
 "cells": [
  {
   "cell_type": "code",
   "execution_count": null,
   "metadata": {},
   "outputs": [],
   "source": [
    "# set dominance coefficient \n",
    "h = 0.5"
   ]
  },
  {
   "cell_type": "code",
   "execution_count": null,
   "metadata": {},
   "outputs": [],
   "source": [
    "# set selection coefficient\n",
    "s = 0.01"
   ]
  },
  {
   "cell_type": "code",
   "execution_count": null,
   "metadata": {},
   "outputs": [],
   "source": [
    "# set initial frequency allele A\n",
    "p₀ = 0.01"
   ]
  },
  {
   "cell_type": "code",
   "execution_count": null,
   "metadata": {},
   "outputs": [],
   "source": [
    "# calculate initial frequency allele B\n",
    "q₀ = 1 - p₀"
   ]
  },
  {
   "cell_type": "code",
   "execution_count": null,
   "metadata": {},
   "outputs": [],
   "source": [
    "# calculate initial mean fitness\n",
    "w̄₀ = (1+s)p₀^2+2(1+h*s)*p₀*q₀+q₀^2"
   ]
  },
  {
   "cell_type": "code",
   "execution_count": null,
   "metadata": {},
   "outputs": [],
   "source": [
    "# set maximum number of generations\n",
    "max_G = 1000"
   ]
  },
  {
   "cell_type": "code",
   "execution_count": null,
   "metadata": {},
   "outputs": [],
   "source": [
    "# initialize saving space \n",
    "p = zeros(Float64,max_G+1)\n",
    "q = zeros(Float64,max_G+1)\n",
    "w̄ = zeros(Float64,max_G+1)\n",
    "# set initial conditions\n",
    "p[1] = p₀\n",
    "q[1] = q₀\n",
    "w̄[1] = w̄₀"
   ]
  },
  {
   "cell_type": "code",
   "execution_count": null,
   "metadata": {},
   "outputs": [],
   "source": [
    "# display initial condidtions \n",
    "@printf \"Generation %4.0f:  p=%.4f q=%.4f w̄=%.4f\\n\" 0 p[1] q[1] w̄[1]\n",
    "for g in 2:max_G+1\n",
    "    \n",
    "    # update p \n",
    "    p[g] =  \n",
    "    # update q\n",
    "    q[g] = \n",
    "    # update w̄\n",
    "    w̄[g] = \n",
    "    \n",
    "    # display results of each iteration \n",
    "    @printf \"Generation %4.0f:  p=%.4f q=%.4f w̄=%.4f\\n\" g-1 p[g] q[g] w̄[g]\n",
    "    \n",
    "end"
   ]
  },
  {
   "cell_type": "code",
   "execution_count": null,
   "metadata": {},
   "outputs": [],
   "source": [
    "# visualize resutls\n",
    "using Plots \n",
    "\n",
    "# plot p vs generations\n",
    "plot(0:max_G,p,title= \"Evolution of Allele Frequency (Diploid Selection)\",\n",
    "        xlabel = \"Generations\",\n",
    "        ylabel = \"Allele Frequency\",\n",
    "        xlims = (0,max_G),\n",
    "        ylims = (0,1),\n",
    "        xticks = 0:100:max_G,\n",
    "        yticks = 0:0.1:1.,\n",
    "        label = \"p\",\n",
    "        lw=3,\n",
    "        linecolor = :red,\n",
    "        legend = :topright,\n",
    "        guidefont = font(15, \"Aerial\"),\n",
    "        legendfont = font(13, \"Aerial\"),\n",
    "        xtickfont = font(10, \"Aerial\"),\n",
    "        ytickfont = font(10, \"Aerial\"))\n",
    "\n",
    "# plot q vs generations\n",
    "plot!(0:max_G,q,\n",
    "        lw=3,\n",
    "        linecolor = :blue,\n",
    "        label = \"q\")\n"
   ]
  },
  {
   "cell_type": "code",
   "execution_count": null,
   "metadata": {},
   "outputs": [],
   "source": [
   ]
  }
 ],
 "metadata": {
  "kernelspec": {
   "display_name": "Julia 0.6.2",
   "language": "julia",
   "name": "julia-0.6"
  },
  "language_info": {
   "file_extension": ".jl",
   "mimetype": "application/julia",
   "name": "julia",
   "version": "0.6.2"
  }
 },
 "nbformat": 4,
 "nbformat_minor": 2
}

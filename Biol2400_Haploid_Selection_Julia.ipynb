{
 "cells": [
  {
   "cell_type": "code",
   "execution_count": null,
   "metadata": {},
   "outputs": [],
   "source": [
    "# set selection coefficient\n",
    "s = 0.02"
   ]
  },
  {
   "cell_type": "code",
   "execution_count": null,
   "metadata": {},
   "outputs": [],
   "source": [
    "# set initial frequency of allele A\n",
    "p₀ = 0.01"
   ]
  },
  {
   "cell_type": "code",
   "execution_count": null,
   "metadata": {},
   "outputs": [],
   "source": [
    "# calculate initial frequency of allele B\n",
    "q₀ = 1 - p₀"
   ]
  },
  {
   "cell_type": "code",
   "execution_count": null,
   "metadata": {},
   "outputs": [],
   "source": [
    "# calculate initial mean fitness\n",
    "w̄₀ = (1+s)p₀ + 1*q₀"
   ]
  },
  {
   "cell_type": "code",
   "execution_count": null,
   "metadata": {},
   "outputs": [],
   "source": [
    "# set maximum number of generations\n",
    "max_G = 500"
   ]
  },
  {
   "cell_type": "code",
   "execution_count": null,
   "metadata": {},
   "outputs": [],
   "source": [
    "# initialize saving space \n",
    "p = zeros(Float64,max_G+1)\n",
    "q = zeros(Float64,max_G+1)\n",
    "w̄ = zeros(Float64,max_G+1)\n",
    "# set initial conditions\n",
    "p[1] = p₀\n",
    "q[1] = q₀\n",
    "w̄[1] = w̄₀"
   ]
  },
  {
   "cell_type": "code",
   "execution_count": null,
   "metadata": {},
   "outputs": [],
   "source": [
    "# display initial condidtions \n",
    "@printf \"Generation %4.0f:  p=%.4f q=%.4f w̄=%.4f\\n\" 0 p[1] q[1] w̄[1]\n",
    "for g in 2:max_G+1\n",
    "    \n",
    "    # update p \n",
    "    p[g] = p[g-1]*(1+s)/w̄[g-1]\n",
    "    # update q\n",
    "    q[g] = 1-p[g]\n",
    "    # update w̄\n",
    "    w̄[g] = 1+s*p[g]\n",
    "    \n",
    "    # display results of each iteration \n",
    "    @printf \"Generation %4.0f:  p=%.4f q=%.4f w̄=%.4f\\n\" g-1 p[g] q[g] w̄[g]\n",
    "    \n",
    "end"
   ]
  },
  {
   "cell_type": "code",
   "execution_count": null,
   "metadata": {},
   "outputs": [],
   "source": [
    "# visualize resutls\n",
    "using Plots \n",
    "\n",
    "# plot p vs generations\n",
    "plot(0:max_G,p,title= \"Evolution of Allele Frequency (Haploid Selection)\",\n",
    "        xlabel = \"Generations\",\n",
    "        ylabel = \"Allele Frequency\",\n",
    "        xlims = (0,max_G),\n",
    "        ylims = (0,1),\n",
    "        xticks = 0:100:max_G,\n",
    "        yticks = 0:0.1:1.,\n",
    "        label = \"p\",\n",
    "        lw=3,\n",
    "        linecolor = :red,\n",
    "        legend = :topright,\n",
    "        guidefont = font(15, \"Aerial\"),\n",
    "        legendfont = font(13, \"Aerial\"),\n",
    "        xtickfont = font(10, \"Aerial\"),\n",
    "        ytickfont = font(10, \"Aerial\"))\n",
    "\n",
    "# plot q vs generations\n",
    "plot!(0:max_G,q,\n",
    "        lw=3,\n",
    "        linecolor = :blue,\n",
    "        label = \"q\")\n"
   ]
  },
  {
   "cell_type": "code",
   "execution_count": null,
   "metadata": {},
   "outputs": [],
   "source": [
    "# complete code\n",
    "# try different values of parameters \n",
    "\n",
    "# set selection coefficient\n",
    "s = 0.03\n",
    "# set initial frequency allele A\n",
    "p₀ = 0.01\n",
    "# calculate initial frequency allele B\n",
    "q₀ = 1 - p₀\n",
    "# set maximum number of generations\n",
    "max_G = 500\n",
    "# calculate initial mean fitness\n",
    "w̄₀ = (1+s)p₀ + 1*q₀\n",
    "# initialize saving space \n",
    "p = zeros(Float64,max_G+1)\n",
    "q = zeros(Float64,max_G+1)\n",
    "w̄ = zeros(Float64,max_G+1)\n",
    "# set initial conditions\n",
    "p[1] = p₀\n",
    "q[1] = q₀\n",
    "w̄[1] = w̄₀\n",
    "# evolution \n",
    "for g in 2:max_G+1\n",
    "    # update p \n",
    "    p[g] = p[g-1]*(1+s)/w̄[g-1]\n",
    "    # update q\n",
    "    q[g] = 1-p[g]\n",
    "    # update w̄\n",
    "    w̄[g] = 1+s*p[g]\n",
    "end\n",
    "# visualize resutls\n",
    "# plot p vs generations\n",
    "plot(0:max_G,p,title= \"Evolution of Allele Frequency (Haploid Selection)\",\n",
    "        xlabel = \"Generations\",\n",
    "        ylabel = \"Allele Frequency\",\n",
    "        xlims = (0,max_G),\n",
    "        ylims = (0,1),\n",
    "        xticks = 0:100:max_G,\n",
    "        yticks = 0:0.1:1.,\n",
    "        label = \"p\",\n",
    "        lw=3,\n",
    "        linecolor = :red,\n",
    "        legend = :topright,\n",
    "        guidefont = font(15, \"Aerial\"),\n",
    "        legendfont = font(13, \"Aerial\"),\n",
    "        xtickfont = font(10, \"Aerial\"),\n",
    "        ytickfont = font(10, \"Aerial\"))\n",
    "\n",
    "# plot q vs generations\n",
    "plot!(0:max_G,q,\n",
    "        lw=3,\n",
    "        linecolor = :blue,\n",
    "        label = \"q\")"
   ]
  }
 ],
 "metadata": {
  "kernelspec": {
   "display_name": "Julia 0.6.2",
   "language": "julia",
   "name": "julia-0.6"
  },
  "language_info": {
   "file_extension": ".jl",
   "mimetype": "application/julia",
   "name": "julia",
   "version": "0.6.2"
  }
 },
 "nbformat": 4,
 "nbformat_minor": 2
}
